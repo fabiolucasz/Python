{
 "cells": [
  {
   "cell_type": "code",
   "execution_count": 15,
   "id": "c6424572",
   "metadata": {},
   "outputs": [
    {
     "name": "stdout",
     "output_type": "stream",
     "text": [
      "<selenium.webdriver.remote.webelement.WebElement (session=\"8b8abb214c3f66b9c23254355319b4f5\", element=\"c47b2966-551a-4d9b-b45d-385128e4a5e6\")>\n"
     ]
    },
    {
     "data": {
      "text/plain": [
       "<selenium.webdriver.remote.webelement.WebElement (session=\"8b8abb214c3f66b9c23254355319b4f5\", element=\"c47b2966-551a-4d9b-b45d-385128e4a5e6\")>"
      ]
     },
     "metadata": {},
     "output_type": "display_data"
    }
   ],
   "source": [
    "\n",
    "\n",
    "#abrir o console no github\n",
    "from selenium import webdriver\n",
    "from selenium.webdriver.common.by import By\n",
    "import pandas as pd\n",
    "drive = webdriver.Chrome()\n",
    "\n",
    "drive.get('https://github.com/fabiolucasz')\n",
    "#acessar o perfil do usuário\n",
    "#pegar o conteúdo da foto do usuário\n",
    "foto = drive.find_element(By.XPATH,'//*[@id=\"js-pjax-container\"]/div[2]/div/div[1]/div/div[2]/div[1]/div[1]/a/img')\n",
    "#telar a foto do usuário\n",
    "print(foto)\n",
    "display(foto)\n"
   ]
  },
  {
   "cell_type": "code",
   "execution_count": null,
   "id": "f9e394d9",
   "metadata": {},
   "outputs": [],
   "source": []
  }
 ],
 "metadata": {
  "kernelspec": {
   "display_name": "Python 3 (ipykernel)",
   "language": "python",
   "name": "python3"
  },
  "language_info": {
   "codemirror_mode": {
    "name": "ipython",
    "version": 3
   },
   "file_extension": ".py",
   "mimetype": "text/x-python",
   "name": "python",
   "nbconvert_exporter": "python",
   "pygments_lexer": "ipython3",
   "version": "3.9.12"
  }
 },
 "nbformat": 4,
 "nbformat_minor": 5
}
