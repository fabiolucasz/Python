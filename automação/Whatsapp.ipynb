{
 "cells": [
  {
   "cell_type": "code",
   "execution_count": 23,
   "id": "dcde3626",
   "metadata": {
    "scrolled": true
   },
   "outputs": [
    {
     "data": {
      "text/html": [
       "<div>\n",
       "<style scoped>\n",
       "    .dataframe tbody tr th:only-of-type {\n",
       "        vertical-align: middle;\n",
       "    }\n",
       "\n",
       "    .dataframe tbody tr th {\n",
       "        vertical-align: top;\n",
       "    }\n",
       "\n",
       "    .dataframe thead th {\n",
       "        text-align: right;\n",
       "    }\n",
       "</style>\n",
       "<table border=\"1\" class=\"dataframe\">\n",
       "  <thead>\n",
       "    <tr style=\"text-align: right;\">\n",
       "      <th></th>\n",
       "      <th>Matricula</th>\n",
       "      <th>Nome</th>\n",
       "      <th>Contato</th>\n",
       "      <th>Mensagem</th>\n",
       "    </tr>\n",
       "  </thead>\n",
       "  <tbody>\n",
       "    <tr>\n",
       "      <th>0</th>\n",
       "      <td>1999</td>\n",
       "      <td>Gustavo Martins</td>\n",
       "      <td>5521984008993</td>\n",
       "      <td>estamos lembrando que amanhã terá aula normal...</td>\n",
       "    </tr>\n",
       "    <tr>\n",
       "      <th>1</th>\n",
       "      <td>7777</td>\n",
       "      <td>Paulo Ribeiro</td>\n",
       "      <td>5521984146692</td>\n",
       "      <td>estamos lembrando que amanhã terá aula normal...</td>\n",
       "    </tr>\n",
       "    <tr>\n",
       "      <th>2</th>\n",
       "      <td>1977</td>\n",
       "      <td>Fabio dos Santos</td>\n",
       "      <td>5521966994315</td>\n",
       "      <td>estamos lembrando que amanhã terá aula normal...</td>\n",
       "    </tr>\n",
       "  </tbody>\n",
       "</table>\n",
       "</div>"
      ],
      "text/plain": [
       "   Matricula              Nome        Contato  \\\n",
       "0       1999   Gustavo Martins  5521984008993   \n",
       "1       7777     Paulo Ribeiro  5521984146692   \n",
       "2       1977  Fabio dos Santos  5521966994315   \n",
       "\n",
       "                                            Mensagem  \n",
       "0   estamos lembrando que amanhã terá aula normal...  \n",
       "1   estamos lembrando que amanhã terá aula normal...  \n",
       "2   estamos lembrando que amanhã terá aula normal...  "
      ]
     },
     "metadata": {},
     "output_type": "display_data"
    }
   ],
   "source": [
    "#é necessário que a base de dados seja completamente preenchida e com o formato dos dados em texto.\n",
    "\n",
    "#abrir o whatsapp\n",
    "from selenium import webdriver\n",
    "from selenium.webdriver.common.keys import Keys\n",
    "from selenium.webdriver.common.by import By\n",
    "import time\n",
    "import urllib\n",
    "import pandas as pd\n",
    "\n",
    "#coletar a base de dados\n",
    "tabela = pd.read_excel(\"bdfusao.xlsx\")\n",
    "display(tabela)\n",
    "\n",
    "navegador = webdriver.Chrome()\n",
    "\n",
    "\n",
    "#navegando até o whatsapp\n",
    "navegador.get('https://web.whatsapp.com/')\n",
    "#whatsapp\n",
    "while len(navegador.find_elements(By.ID, 'side')) < 1 :\n",
    "    time.sleep(1)\n",
    "time.sleep(10)\n",
    "\n",
    "for i, mensagem in enumerate(tabela['Mensagem']):\n",
    "    pessoa = tabela.loc[i,'Nome']\n",
    "    numero = tabela.loc[i,'Contato']\n",
    "    matricula = tabela.loc[i,'Matricula']\n",
    "#texto a ser enviado\n",
    "    texto = urllib.parse.quote(f'Olá {pessoa} matrícula {matricula}, {mensagem}')\n",
    "#enviar a mensagem    \n",
    "    link = f\"https://web.whatsapp.com/send?phone={numero}&text={texto}\"\n",
    "    navegador.get(link)\n",
    "# esperar a tela do whatsapp carregar    \n",
    "    while len(navegador.find_elements(By.ID, 'side')) < 1:\n",
    "        time.sleep(1)\n",
    "    time.sleep(10) # só para garantir\n",
    "    navegador.find_element(By.XPATH, '//*[@id=\"main\"]/footer/div[1]/div/span[2]/div/div[2]/div[2]/button/span').click()\n",
    "    time.sleep(10)"
   ]
  },
  {
   "cell_type": "code",
   "execution_count": null,
   "id": "bd596dbe",
   "metadata": {},
   "outputs": [],
   "source": []
  }
 ],
 "metadata": {
  "kernelspec": {
   "display_name": "Python 3 (ipykernel)",
   "language": "python",
   "name": "python3"
  },
  "language_info": {
   "codemirror_mode": {
    "name": "ipython",
    "version": 3
   },
   "file_extension": ".py",
   "mimetype": "text/x-python",
   "name": "python",
   "nbconvert_exporter": "python",
   "pygments_lexer": "ipython3",
   "version": "3.9.12"
  }
 },
 "nbformat": 4,
 "nbformat_minor": 5
}
